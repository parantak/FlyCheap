{
 "cells": [
  {
   "cell_type": "code",
   "execution_count": 112,
   "metadata": {},
   "outputs": [],
   "source": [
    "#all import statements\n",
    "#Note: smtplib is a built-in library for python\n",
    "from selenium import webdriver\n",
    "from selenium.webdriver.common.by import By\n",
    "from selenium.webdriver.common.keys import Keys\n",
    "\n",
    "import pandas as pd\n",
    "\n",
    "import time\n",
    "import datetime\n",
    "\n",
    "import smtplib\n",
    "from email.mime.multipart import MIMEMultipart"
   ]
  },
  {
   "cell_type": "code",
   "execution_count": 97,
   "metadata": {},
   "outputs": [],
   "source": [
    "driver = webdriver.Chrome(executable_path='/home/hazzy0606/chromedriver')\n",
    "#driver.get('https://www.**********.com/flights')"
   ]
  },
  {
   "cell_type": "code",
   "execution_count": 98,
   "metadata": {},
   "outputs": [],
   "source": [
    "multi_ticket = '//*[@id=\"MultiCity\"]'\n",
    "return_ticket = '//*[@id=\"RoundTrip\"]'\n",
    "one_way_ticket = '//*[@id=\"OneWay\"]'"
   ]
  },
  {
   "cell_type": "code",
   "execution_count": 99,
   "metadata": {},
   "outputs": [],
   "source": [
    "def ticket_chooser(ticket):\n",
    "    try:\n",
    "        ticket_type = driver.find_element_by_xpath(ticket)\n",
    "        ticket_type.click()\n",
    "    except Exception as e:\n",
    "        pass"
   ]
  },
  {
   "cell_type": "code",
   "execution_count": 100,
   "metadata": {},
   "outputs": [],
   "source": [
    "def dep_city_chooser(dep_city):\n",
    "    fly_from = driver.find_element_by_xpath('//*[@id=\"FromTag\"]')\n",
    "    time.sleep(2)\n",
    "    fly_from.clear()\n",
    "    time.sleep(2)\n",
    "    fly_from.send_keys(' ' + dep_city)\n",
    "    time.sleep(2)\n",
    "    fly_from.send_keys(Keys.RETURN)\n",
    "#     first_item = driver.find_element_by_xpath('//li[@class=\"list\"][1]')\n",
    "#     time.sleep(2)\n",
    "#     first_item.click()"
   ]
  },
  {
   "cell_type": "code",
   "execution_count": 101,
   "metadata": {},
   "outputs": [],
   "source": [
    "def arr_city_chooser(arr_city):\n",
    "    fly_to = driver.find_element_by_xpath('//*[@id=\"ToTag\"]')\n",
    "    time.sleep(2)\n",
    "    fly_to.clear()\n",
    "    time.sleep(2)\n",
    "    fly_to.send_keys('  ' + arr_city)\n",
    "    time.sleep(2)\n",
    "    fly_to.send_keys(Keys.RETURN)\n",
    "#     first_item = driver.find_element_by_xpath('//li[@class=\"list\"][1]')\n",
    "#     time.sleep(2)\n",
    "#     first_item.click()"
   ]
  },
  {
   "cell_type": "code",
   "execution_count": 102,
   "metadata": {},
   "outputs": [],
   "source": [
    "def dep_date_chooser(day, month, year):\n",
    "    dep_date_button = driver.find_element_by_xpath('//*[@id=\"DepartDate\"]')\n",
    "    dep_date_button.clear()\n",
    "    dep_date_button.send_keys(day + '/' + month + '/' + year)\n",
    "    \n",
    "def return_date_chooser(day, month, year):\n",
    "    return_date_button = driver.find_element_by_xpath('//*[@id=\"ReturnDate\"]')\n",
    "    \n",
    "    for i in range(11):\n",
    "        return_date_button.send_keys(Keys.BACKSPACE)\n",
    "    return_date_button.send_keys(day + '/' + month + '/' + year)\n",
    "    "
   ]
  },
  {
   "cell_type": "code",
   "execution_count": 103,
   "metadata": {},
   "outputs": [],
   "source": [
    "def search():\n",
    "    search = driver.find_element_by_xpath('//*[@id=\"SearchBtn\"]')\n",
    "    search.click()\n",
    "    time.sleep(15)\n",
    "    print('Results ready!')"
   ]
  },
  {
   "cell_type": "code",
   "execution_count": 104,
   "metadata": {},
   "outputs": [],
   "source": [
    "'''\n",
    "All the function have been defineded.\n",
    "Creating a dataframe using pandas\n",
    "'''\n",
    "\n",
    "df = pd.DataFrame()\n",
    "def compile_data():\n",
    "    global df\n",
    "    global dep_times_list\n",
    "    global arr_times_list\n",
    "    global airlines_list\n",
    "    global price_list\n",
    "    global durations_list\n",
    "    global stops_list\n",
    "    global layovers_list\n",
    "    \n",
    "    #departure times\n",
    "    dep_times = driver.find_elements_by_xpath('//th[@class=\"depart\"]')\n",
    "    dep_times_list = [value.text for value in dep_times]\n",
    "    \n",
    "    #arrival times\n",
    "    arr_times = driver.find_elements_by_xpath('//th[@class=\"arrive\"]')\n",
    "    arr_times_list = [value.text for value in arr_times]\n",
    "    \n",
    "    #airline name\n",
    "    airlines = driver.find_elements_by_xpath('//img[@height=\"23\" and @width=\"27\"]')\n",
    "    airlines_list = [value.get_attribute('title') for value in airlines]\n",
    "    \n",
    "    #prices\n",
    "    prices = driver.find_elements_by_xpath('//th[@class=\"price\"]')\n",
    "    price_list = [value.text for value in prices]\n",
    "    \n",
    "    #durations\n",
    "    durations = driver.find_elements_by_xpath('//th[@class=\"duration\"]')\n",
    "    durations_list = [value.text for value in durations]\n",
    "    \n",
    "    #stops\n",
    "    stops = driver.find_elements_by_xpath('//td[@class=\"duration\"]')\n",
    "    stops_list = [value.text for value in stops]\n",
    "    \n",
    "    #layovers\n",
    "    layovers = driver.find_elements_by_xpath('//td[@class=\"duration\"]')\n",
    "    layovers_list = [value.text for value in stops]\n",
    "    \n",
    "    now = datetime.datetime.now()\n",
    "    current_date = (str(now.year) + '/' + str(now.month) + '/' + str(now.day))\n",
    "    current_time = (str(now.hour) + ':' + str(now.minute))\n",
    "    current_price = 'price' + '(' + current_date + '---' + current_time + ')'\n",
    "    for i in range(len(dep_times_list)):\n",
    "        try:\n",
    "            df.loc[i, 'departure_time'] = dep_times_list[i]\n",
    "        except Exception as e:\n",
    "            pass\n",
    "        try:\n",
    "            df.loc[i, 'arrival_time'] = arr_times_list[i]\n",
    "        except Exception as e:\n",
    "            pass\n",
    "        try:\n",
    "            df.loc[i, 'airline'] = airlines_list[i]\n",
    "        except Exception as e:\n",
    "            pass\n",
    "        try:\n",
    "            df.loc[i, 'duration'] = durations_list[i]\n",
    "        except Exception as e:\n",
    "            pass\n",
    "        try:\n",
    "            df.loc[i, 'stops'] = stops_list[i]\n",
    "        except Exception as e:\n",
    "            pass\n",
    "        try:\n",
    "            df.loc[i, 'layovers'] = layovers_list[i]\n",
    "        except Exception as e:\n",
    "            pass\n",
    "        try:\n",
    "            df.loc[i, str(current_price)] = price_list[i]\n",
    "        except Exception as e:\n",
    "            pass\n",
    "    \n",
    "    print('Excel Sheet Created!')\n",
    "\n",
    "    \n",
    "    "
   ]
  },
  {
   "cell_type": "code",
   "execution_count": 105,
   "metadata": {},
   "outputs": [],
   "source": [
    "#email credentials\n",
    "username = 'email_id'\n",
    "password = 'your password here'"
   ]
  },
  {
   "cell_type": "code",
   "execution_count": 106,
   "metadata": {},
   "outputs": [],
   "source": [
    "#connect mail\n",
    "def connect_mail(username, password):\n",
    "    global server\n",
    "    server = smtplib.SMTP('smtp.gmail.com', 587)\n",
    "    server.ehlo()\n",
    "    server.starttls()\n",
    "    server.login(username,password)\n",
    "    "
   ]
  },
  {
   "cell_type": "code",
   "execution_count": 107,
   "metadata": {},
   "outputs": [],
   "source": [
    "#create message\n",
    "def create_msg():\n",
    "    global msg\n",
    "    msg = '\\nCurrent Cheapest flight:\\n\\nDeparture time: {}\\nArrival time: {}\\nAirline: {}\\nFlight duration: {}\\nNo. of stops: {}\\nPrice: {}\\n'.format(cheapest_dep_time,\n",
    "                       cheapest_arrival_time,\n",
    "                       cheapest_airline,\n",
    "                       cheapest_duration,\n",
    "                       cheapest_stops,\n",
    "                       cheapest_price)\n",
    "    "
   ]
  },
  {
   "cell_type": "code",
   "execution_count": 108,
   "metadata": {},
   "outputs": [],
   "source": [
    "#send message\n",
    "def send_email(msg):\n",
    "    global message\n",
    "    message = MIMEMultipart()\n",
    "    message['Subject'] = 'Current Best flight'\n",
    "    message['From'] = 'from_email_id'\n",
    "    message['to'] = 'to_email_id'\n",
    "    server.sendmail('from_email_id', 'to_email_id', msg)"
   ]
  },
  {
   "cell_type": "code",
   "execution_count": 109,
   "metadata": {},
   "outputs": [
    {
     "name": "stdout",
     "output_type": "stream",
     "text": [
      "Results ready!\n",
      "Excel Sheet Created!\n",
      "run 0 completed!\n",
      "Email sent!\n"
     ]
    },
    
   ],
   "source": [
    "#final code\n",
    "for i in range(2):\n",
    "    link = 'https://www.**********.com/flights'\n",
    "    driver.get(link)\n",
    "    time.sleep(5)\n",
    "    \n",
    "    ticket_chooser(one_way_ticket)\n",
    "    \n",
    "    dep_city_chooser('Goa')\n",
    "    arr_city_chooser('Lucknow')\n",
    "    \n",
    "    dep_date_chooser('16', '10', '2019')\n",
    "    \n",
    "    search()\n",
    "    \n",
    "    compile_data()\n",
    "    \n",
    "    current_values = df.iloc[0]\n",
    "    \n",
    "    cheapest_dep_time = current_values[0]\n",
    "    cheapest_arrival_time = current_values[1]\n",
    "    cheapest_airline = current_values[2]\n",
    "    cheapest_duration = current_values[3]\n",
    "    cheapest_stops = current_values[4]\n",
    "    cheapest_price = current_values[-1]\n",
    "    \n",
    "    print('run {} completed!'.format(i))\n",
    "    \n",
    "    create_msg()\n",
    "    connect_mail(username,password)\n",
    "    send_email(msg)\n",
    "    print('Email sent!')\n",
    "    df.to_excel('flights.xlsx')\n",
    "    time.sleep(3600)\n",
    "    \n",
    "    \n",
    "    "
   ]
  }
 ],
 "metadata": {
  "kernelspec": {
   "display_name": "Python 3",
   "language": "python",
   "name": "python3"
  },
  "language_info": {
   "codemirror_mode": {
    "name": "ipython",
    "version": 3
   },
   "file_extension": ".py",
   "mimetype": "text/x-python",
   "name": "python",
   "nbconvert_exporter": "python",
   "pygments_lexer": "ipython3",
   "version": "3.6.8"
  }
 },
 "nbformat": 4,
 "nbformat_minor": 2
}
